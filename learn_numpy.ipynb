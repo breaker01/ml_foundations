{
 "cells": [
  {
   "cell_type": "markdown",
   "id": "e5eb6f91-4e26-4bfa-aa2a-6f6ffecf3308",
   "metadata": {},
   "source": [
    "NumPy - Numerical Python\n",
    "\n",
    "Advantages of Numpy Arrays:\n",
    "\n",
    "1. Allows several Mathematical Operations\n",
    "2. Faster operations"
   ]
  },
  {
   "cell_type": "code",
   "execution_count": 4,
   "id": "10351430-517e-48fc-8a85-c43daba4675e",
   "metadata": {},
   "outputs": [],
   "source": [
    "import numpy as np"
   ]
  },
  {
   "cell_type": "markdown",
   "id": "2f76b01e-4652-4b68-acf7-c92b13400e14",
   "metadata": {},
   "source": [
    "List vs Numpy - Time Taken"
   ]
  },
  {
   "cell_type": "code",
   "execution_count": 7,
   "id": "40bf7fd3-e1c6-4246-998a-4de3c8421bf6",
   "metadata": {},
   "outputs": [],
   "source": [
    "from time import process_time"
   ]
  },
  {
   "cell_type": "code",
   "execution_count": 14,
   "id": "25e6135e-50ac-4399-a943-13cbe63a762b",
   "metadata": {},
   "outputs": [
    {
     "name": "stdout",
     "output_type": "stream",
     "text": [
      "0.0003382499999995403\n"
     ]
    }
   ],
   "source": [
    "myList = [i for i in range(10000)]\n",
    "\n",
    "start_time = process_time()\n",
    "\n",
    "myList = [i+5 for i in myList]\n",
    "\n",
    "end_time = process_time()\n",
    "print(end_time - start_time)"
   ]
  },
  {
   "cell_type": "code",
   "execution_count": 19,
   "id": "72a26609-e3de-4281-bc32-97b4a8af345c",
   "metadata": {},
   "outputs": [
    {
     "name": "stdout",
     "output_type": "stream",
     "text": [
      "4.5148000001660193e-05\n"
     ]
    }
   ],
   "source": [
    "myNpArray = np.array([i for i in range(10000)])\n",
    "\n",
    "start_time_np = process_time()\n",
    "\n",
    "myNpArray = +5\n",
    "end_time_np = process_time()\n",
    "\n",
    "print(end_time_np - start_time_np)"
   ]
  },
  {
   "cell_type": "markdown",
   "id": "f32bdb73-8284-41bb-a5e5-5225ea125ef5",
   "metadata": {},
   "source": [
    "Create numpy Array"
   ]
  },
  {
   "cell_type": "code",
   "execution_count": 20,
   "id": "25ed21de-4110-470a-9b74-790379652f76",
   "metadata": {},
   "outputs": [],
   "source": [
    "np_array = np.array([1,2,3,4,5,6,7])"
   ]
  },
  {
   "cell_type": "code",
   "execution_count": 21,
   "id": "cb2d58d9-6969-4757-b1fe-664d9ac12bf3",
   "metadata": {},
   "outputs": [
    {
     "name": "stdout",
     "output_type": "stream",
     "text": [
      "[1 2 3 4 5 6 7]\n"
     ]
    }
   ],
   "source": [
    "print(np_array)"
   ]
  },
  {
   "cell_type": "code",
   "execution_count": 22,
   "id": "5aad1761-0cd5-4d9d-aa6c-b0f5ceaeb616",
   "metadata": {},
   "outputs": [
    {
     "name": "stdout",
     "output_type": "stream",
     "text": [
      "[[0. 0. 0. 0. 0.]\n",
      " [0. 0. 0. 0. 0.]\n",
      " [0. 0. 0. 0. 0.]\n",
      " [0. 0. 0. 0. 0.]]\n"
     ]
    }
   ],
   "source": [
    "# create a numpy array of Zeros\n",
    "x = np.zeros((4,5))\n",
    "print(x)"
   ]
  },
  {
   "cell_type": "code",
   "execution_count": 23,
   "id": "34f0ff7c-e5db-48a3-b00d-a4bef1309844",
   "metadata": {},
   "outputs": [
    {
     "name": "stdout",
     "output_type": "stream",
     "text": [
      "[[1. 1. 1.]\n",
      " [1. 1. 1.]\n",
      " [1. 1. 1.]]\n"
     ]
    }
   ],
   "source": [
    "# create a numpy array of ones\n",
    "y = np.ones((3,3))\n",
    "print(y)"
   ]
  },
  {
   "cell_type": "code",
   "execution_count": 30,
   "id": "eeac6bdb-6971-478f-9b0d-3ae031f414a3",
   "metadata": {},
   "outputs": [
    {
     "name": "stdout",
     "output_type": "stream",
     "text": [
      "[[5]\n",
      " [5]\n",
      " [5]\n",
      " [5]\n",
      " [5]]\n"
     ]
    }
   ],
   "source": [
    "# array of a particular value\n",
    "# row,column \n",
    "z = np.full((5,1),5)\n",
    "print(z)"
   ]
  },
  {
   "cell_type": "code",
   "execution_count": 31,
   "id": "cd918315-db4d-4af2-91bd-81fbfa25fbd8",
   "metadata": {},
   "outputs": [
    {
     "name": "stdout",
     "output_type": "stream",
     "text": [
      "[[1. 0. 0. 0. 0.]\n",
      " [0. 1. 0. 0. 0.]\n",
      " [0. 0. 1. 0. 0.]\n",
      " [0. 0. 0. 1. 0.]\n",
      " [0. 0. 0. 0. 1.]]\n"
     ]
    }
   ],
   "source": [
    "# create an identity matrix\n",
    "a = np.eye(5)\n",
    "print(a)"
   ]
  },
  {
   "cell_type": "code",
   "execution_count": 32,
   "id": "e559c357-acab-46d8-ae12-132b4e81e941",
   "metadata": {},
   "outputs": [
    {
     "name": "stdout",
     "output_type": "stream",
     "text": [
      "[[0.12461527 0.11158452 0.36381388 0.46444609]\n",
      " [0.21061712 0.02749622 0.82967278 0.32083037]\n",
      " [0.98502833 0.93558421 0.32758617 0.22931007]]\n"
     ]
    }
   ],
   "source": [
    "# create a numpy array with random values\n",
    "b = np.random.random((3,4))\n",
    "print(b)"
   ]
  },
  {
   "cell_type": "code",
   "execution_count": 33,
   "id": "e0d7283e-ae56-45a4-9097-7541ca06c225",
   "metadata": {},
   "outputs": [
    {
     "name": "stdout",
     "output_type": "stream",
     "text": [
      "[[73 46 40 71 77]\n",
      " [94 22 29 72 26]\n",
      " [59 36 35 30 90]]\n"
     ]
    }
   ],
   "source": [
    "# random integer values array within a specific range\n",
    "c = np.random.randint(10,100,(3,5))\n",
    "print(c)"
   ]
  },
  {
   "cell_type": "code",
   "execution_count": 46,
   "id": "997d4761-bf58-43bd-a69d-8bf8855c63f6",
   "metadata": {},
   "outputs": [
    {
     "name": "stdout",
     "output_type": "stream",
     "text": [
      "[10. 15. 20. 25. 30.]\n"
     ]
    }
   ],
   "source": [
    "# array of evenly spaced values --> specifying the number of values required\n",
    "d = np.linspace(10,30,5)\n",
    "print(d)"
   ]
  },
  {
   "cell_type": "code",
   "execution_count": 48,
   "id": "3154d478-4494-481d-8725-163e25ac5278",
   "metadata": {},
   "outputs": [
    {
     "name": "stdout",
     "output_type": "stream",
     "text": [
      "[10 12 14 16 18 20 22 24 26 28]\n"
     ]
    }
   ],
   "source": [
    "# array of evenly spaced values --> specifying the step\n",
    "e = np.arange(10,30,2)\n",
    "print(e)"
   ]
  },
  {
   "cell_type": "code",
   "execution_count": 50,
   "id": "cc054d66-d4be-4013-81d6-20edccff22be",
   "metadata": {},
   "outputs": [
    {
     "name": "stdout",
     "output_type": "stream",
     "text": [
      "[10 20 20 20 50]\n"
     ]
    },
    {
     "data": {
      "text/plain": [
       "numpy.ndarray"
      ]
     },
     "execution_count": 50,
     "metadata": {},
     "output_type": "execute_result"
    }
   ],
   "source": [
    "# convert a list to a numpy array\n",
    "list2 = [10,20,20,20,50]\n",
    "type(list2)\n",
    "\n",
    "np_array = np.asarray(list2)\n",
    "print(np_array)\n",
    "type(np_array)"
   ]
  },
  {
   "cell_type": "markdown",
   "id": "c47e4f67-deb4-433d-bb2c-c9103a7e2e31",
   "metadata": {},
   "source": [
    "Analysing a numpy array"
   ]
  },
  {
   "cell_type": "code",
   "execution_count": 51,
   "id": "d262fb48-aca2-4a00-81e0-bb495bb806ba",
   "metadata": {},
   "outputs": [
    {
     "name": "stdout",
     "output_type": "stream",
     "text": [
      "[[30 58 83 58 13]\n",
      " [55 66 87 19 69]\n",
      " [35 67 40 26 79]\n",
      " [65 46 61 24 25]\n",
      " [79 74 16 15 22]]\n"
     ]
    }
   ],
   "source": [
    "c = np.random.randint(10,90,(5,5))\n",
    "print(c)"
   ]
  },
  {
   "cell_type": "code",
   "execution_count": 52,
   "id": "aa18f14e-3202-4b73-a516-c76a6d0c614e",
   "metadata": {},
   "outputs": [
    {
     "name": "stdout",
     "output_type": "stream",
     "text": [
      "(5, 5)\n"
     ]
    }
   ],
   "source": [
    "# array dimension\n",
    "print(c.shape)"
   ]
  },
  {
   "cell_type": "code",
   "execution_count": 53,
   "id": "b1fc3fa9-fa7f-4fae-890c-23d243b7be17",
   "metadata": {},
   "outputs": [
    {
     "name": "stdout",
     "output_type": "stream",
     "text": [
      "2\n"
     ]
    }
   ],
   "source": [
    "# number of dimensions\n",
    "print(c.ndim)"
   ]
  },
  {
   "cell_type": "code",
   "execution_count": 54,
   "id": "fc2df568-9c7f-4efe-a739-8112e6d54843",
   "metadata": {},
   "outputs": [
    {
     "name": "stdout",
     "output_type": "stream",
     "text": [
      "25\n"
     ]
    }
   ],
   "source": [
    "# number of elements in an array\n",
    "print(c.size)"
   ]
  },
  {
   "cell_type": "code",
   "execution_count": 55,
   "id": "994ac068-cbba-4090-9508-00faa281d474",
   "metadata": {},
   "outputs": [
    {
     "name": "stdout",
     "output_type": "stream",
     "text": [
      "int64\n"
     ]
    }
   ],
   "source": [
    "# checking the data type of the values in the array\n",
    "print(c.dtype)"
   ]
  },
  {
   "cell_type": "markdown",
   "id": "34ffbeaf-6163-4d5a-8f4e-e9325629ff34",
   "metadata": {},
   "source": [
    "Mathematical operations on a np array"
   ]
  },
  {
   "cell_type": "code",
   "execution_count": 56,
   "id": "508a3661-632e-4ab5-aa69-7eb7a682725d",
   "metadata": {},
   "outputs": [
    {
     "name": "stdout",
     "output_type": "stream",
     "text": [
      "[1, 2, 3, 4, 5, 6, 7, 8, 9, 10]\n"
     ]
    }
   ],
   "source": [
    "list1 = [1,2,3,4,5]\n",
    "list2 = [6,7,8,9,10]\n",
    "\n",
    "print(list1 + list2)    # concatenate or joins two list"
   ]
  },
  {
   "cell_type": "code",
   "execution_count": 57,
   "id": "8175eba5-581b-4777-8f4b-89f1f401cd29",
   "metadata": {},
   "outputs": [],
   "source": [
    "a = np.random.randint(0,10,(3,3))\n",
    "b = np.random.randint(10,20,(3,3))"
   ]
  },
  {
   "cell_type": "code",
   "execution_count": 58,
   "id": "3557d4e5-7bb0-4d51-a96b-a1246d139a29",
   "metadata": {},
   "outputs": [
    {
     "name": "stdout",
     "output_type": "stream",
     "text": [
      "[[8 8 8]\n",
      " [6 1 3]\n",
      " [0 9 9]]\n",
      "[[11 19 17]\n",
      " [16 14 10]\n",
      " [18 16 12]]\n"
     ]
    }
   ],
   "source": [
    "print(a)\n",
    "print(b)"
   ]
  },
  {
   "cell_type": "code",
   "execution_count": 59,
   "id": "bfba4037-64fe-4f50-a76a-b846795de225",
   "metadata": {},
   "outputs": [
    {
     "name": "stdout",
     "output_type": "stream",
     "text": [
      "[[19 27 25]\n",
      " [22 15 13]\n",
      " [18 25 21]]\n",
      "[[ -3 -11  -9]\n",
      " [-10 -13  -7]\n",
      " [-18  -7  -3]]\n",
      "[[ 88 152 136]\n",
      " [ 96  14  30]\n",
      " [  0 144 108]]\n",
      "[[0.72727273 0.42105263 0.47058824]\n",
      " [0.375      0.07142857 0.3       ]\n",
      " [0.         0.5625     0.75      ]]\n"
     ]
    }
   ],
   "source": [
    "print(a+b)\n",
    "print(a-b)\n",
    "print(a*b)\n",
    "print(a/b)"
   ]
  },
  {
   "cell_type": "code",
   "execution_count": 60,
   "id": "860fee5f-606b-441c-a44c-a952878e607d",
   "metadata": {},
   "outputs": [],
   "source": [
    "a = np.random.randint(0,10,(3,3))\n",
    "b = np.random.randint(10,20,(3,3))"
   ]
  },
  {
   "cell_type": "code",
   "execution_count": 61,
   "id": "d0266980-b0b9-4ca4-96ee-f738a6fa4870",
   "metadata": {},
   "outputs": [
    {
     "name": "stdout",
     "output_type": "stream",
     "text": [
      "[[1 1 4]\n",
      " [9 5 8]\n",
      " [5 7 1]]\n",
      "[[17 12 12]\n",
      " [19 18 15]\n",
      " [16 16 18]]\n"
     ]
    }
   ],
   "source": [
    "print(a)\n",
    "print(b)"
   ]
  },
  {
   "cell_type": "code",
   "execution_count": 62,
   "id": "ea8cbe83-569b-42d9-a4eb-55bc7adbdd97",
   "metadata": {},
   "outputs": [
    {
     "name": "stdout",
     "output_type": "stream",
     "text": [
      "[[18 13 16]\n",
      " [28 23 23]\n",
      " [21 23 19]]\n",
      "[[-16 -11  -8]\n",
      " [-10 -13  -7]\n",
      " [-11  -9 -17]]\n",
      "[[ 17  12  48]\n",
      " [171  90 120]\n",
      " [ 80 112  18]]\n",
      "[[0.05882353 0.08333333 0.33333333]\n",
      " [0.47368421 0.27777778 0.53333333]\n",
      " [0.3125     0.4375     0.05555556]]\n"
     ]
    }
   ],
   "source": [
    "print(np.add(a,b))\n",
    "print(np.subtract(a,b))\n",
    "print(np.multiply(a,b))\n",
    "print(np.divide(a,b))"
   ]
  },
  {
   "cell_type": "markdown",
   "id": "b142fcde-fee4-44ce-9b98-34f21784f5e2",
   "metadata": {},
   "source": [
    "Array Manipulation"
   ]
  },
  {
   "cell_type": "code",
   "execution_count": 63,
   "id": "66920c01-fc2b-4c15-a777-f9383e5fbf6b",
   "metadata": {},
   "outputs": [
    {
     "name": "stdout",
     "output_type": "stream",
     "text": [
      "[[5 2 3]\n",
      " [0 0 6]]\n",
      "(2, 3)\n"
     ]
    }
   ],
   "source": [
    "array = np.random.randint(0,10,(2,3))\n",
    "print(array)\n",
    "print(array.shape)"
   ]
  },
  {
   "cell_type": "code",
   "execution_count": 64,
   "id": "365ac378-4561-42c7-bbd0-08ec99c6c1dd",
   "metadata": {},
   "outputs": [
    {
     "name": "stdout",
     "output_type": "stream",
     "text": [
      "[[5 0]\n",
      " [2 0]\n",
      " [3 6]]\n",
      "(3, 2)\n"
     ]
    }
   ],
   "source": [
    "# transpose\n",
    "trans = np.transpose(array)\n",
    "print(trans)\n",
    "print(trans.shape)"
   ]
  },
  {
   "cell_type": "code",
   "execution_count": 65,
   "id": "115c649a-e8b6-487c-94a2-cc71d43e35bc",
   "metadata": {},
   "outputs": [
    {
     "name": "stdout",
     "output_type": "stream",
     "text": [
      "[[7 7 2]\n",
      " [3 0 3]]\n",
      "(2, 3)\n"
     ]
    }
   ],
   "source": [
    "array = np.random.randint(0,10,(2,3))\n",
    "print(array)\n",
    "print(array.shape)"
   ]
  },
  {
   "cell_type": "code",
   "execution_count": 66,
   "id": "e763b0b5-96ff-4ea9-82c7-bceae4e66876",
   "metadata": {},
   "outputs": [
    {
     "name": "stdout",
     "output_type": "stream",
     "text": [
      "[[7 3]\n",
      " [7 0]\n",
      " [2 3]]\n",
      "(3, 2)\n"
     ]
    }
   ],
   "source": [
    "trans2 = array.T\n",
    "print(trans2)\n",
    "print(trans2.shape)"
   ]
  },
  {
   "cell_type": "code",
   "execution_count": 67,
   "id": "adf65892-6637-4d28-a854-4c3cb35b44b5",
   "metadata": {},
   "outputs": [
    {
     "name": "stdout",
     "output_type": "stream",
     "text": [
      "[[4 5 1]\n",
      " [7 1 3]]\n",
      "(2, 3)\n"
     ]
    }
   ],
   "source": [
    "# reshaping a array\n",
    "a = np.random.randint(0,10,(2,3))\n",
    "print(a)\n",
    "print(a.shape)"
   ]
  },
  {
   "cell_type": "code",
   "execution_count": 68,
   "id": "1e3094be-04fe-47dc-8c95-adb83b8d55ce",
   "metadata": {},
   "outputs": [
    {
     "name": "stdout",
     "output_type": "stream",
     "text": [
      "[[4 5]\n",
      " [1 7]\n",
      " [1 3]]\n",
      "(3, 2)\n"
     ]
    }
   ],
   "source": [
    "b = a.reshape(3,2)\n",
    "print(b)\n",
    "print(b.shape)"
   ]
  },
  {
   "cell_type": "code",
   "execution_count": null,
   "id": "4da8984b-970b-4544-8cbf-dd078b8aaf53",
   "metadata": {},
   "outputs": [],
   "source": []
  }
 ],
 "metadata": {
  "kernelspec": {
   "display_name": "Python 3 (ipykernel)",
   "language": "python",
   "name": "python3"
  },
  "language_info": {
   "codemirror_mode": {
    "name": "ipython",
    "version": 3
   },
   "file_extension": ".py",
   "mimetype": "text/x-python",
   "name": "python",
   "nbconvert_exporter": "python",
   "pygments_lexer": "ipython3",
   "version": "3.13.3"
  }
 },
 "nbformat": 4,
 "nbformat_minor": 5
}
