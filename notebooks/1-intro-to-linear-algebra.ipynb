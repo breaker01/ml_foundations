{
 "cells": [
  {
   "cell_type": "markdown",
   "metadata": {
    "colab_type": "text",
    "id": "view-in-github"
   },
   "source": [
    "<a href=\"https://colab.research.google.com/github/breaker01/ml_foundations/blob/main/notebooks/1-intro-to-linear-algebra.ipynb\" target=\"_parent\"><img src=\"https://colab.research.google.com/assets/colab-badge.svg\" alt=\"Open In Colab\"/></a>"
   ]
  },
  {
   "cell_type": "markdown",
   "metadata": {
    "id": "aTOLgsbN69-P"
   },
   "source": [
    "# Intro to Linear Algebra"
   ]
  },
  {
   "cell_type": "markdown",
   "metadata": {
    "id": "yqUB9FTRAxd-"
   },
   "source": [
    "This topic, *Intro to Linear Algebra*, is the first in the *Machine Learning Foundations* series.\n",
    "\n",
    "It is essential because linear algebra lies at the heart of most machine learning approaches and is especially predominant in deep learning, the branch of ML at the forefront of today’s artificial intelligence advances. Through the measured exposition of theory paired with interactive examples, you’ll develop an understanding of how linear algebra is used to solve for unknown values in high-dimensional spaces, thereby enabling machines to recognize patterns and make predictions.\n",
    "\n",
    "The content covered in *Intro to Linear Algebra* is itself foundational for all the other topics in the Machine Learning Foundations series and it is especially relevant to *Linear Algebra II*."
   ]
  },
  {
   "cell_type": "markdown",
   "metadata": {
    "id": "d4tBvI88BheF"
   },
   "source": [
    "Over the course of studying this topic, you'll:\n",
    "\n",
    "* Understand the fundamentals of linear algebra, a ubiquitous approach for solving for unknowns within high-dimensional spaces.\n",
    "\n",
    "* Develop a geometric intuition of what’s going on beneath the hood of machine learning algorithms, including those used for deep learning.\n",
    "* Be able to more intimately grasp the details of machine learning papers as well as all of the other subjects that underlie ML, including calculus, statistics, and optimization algorithms."
   ]
  },
  {
   "cell_type": "markdown",
   "metadata": {
    "id": "Z68nQ0ekCYhF"
   },
   "source": [
    "**Note that this Jupyter notebook is not intended to stand alone. It is the companion code to a lecture or to videos from Jon Krohn's [Machine Learning Foundations](https://github.com/jonkrohn/ML-foundations) series, which offer detail on the following:**\n",
    "\n",
    "*Segment 1: Data Structures for Algebra*\n",
    "\n",
    "* What Linear Algebra Is  \n",
    "* A Brief History of Algebra\n",
    "* Tensors\n",
    "* Scalars\n",
    "* Vectors and Vector Transposition\n",
    "* Norms and Unit Vectors\n",
    "* Basis, Orthogonal, and Orthonormal Vectors\n",
    "* Arrays in NumPy  \n",
    "* Matrices\n",
    "* Tensors in TensorFlow and PyTorch\n",
    "\n",
    "*Segment 2: Common Tensor Operations*\n",
    "\n",
    "* Tensor Transposition\n",
    "* Basic Tensor Arithmetic\n",
    "* Reduction\n",
    "* The Dot Product\n",
    "* Solving Linear Systems\n",
    "\n",
    "*Segment 3: Matrix Properties*\n",
    "\n",
    "* The Frobenius Norm\n",
    "* Matrix Multiplication\n",
    "* Symmetric and Identity Matrices\n",
    "* Matrix Inversion\n",
    "* Diagonal Matrices\n",
    "* Orthogonal Matrices\n"
   ]
  },
  {
   "cell_type": "markdown",
   "metadata": {
    "id": "2khww76J5w9n"
   },
   "source": [
    "## Segment 1: Data Structures for Algebra\n",
    "\n",
    "**Slides used to begin segment, with focus on introducing what linear algebra is, including hands-on paper and pencil exercises.**"
   ]
  },
  {
   "cell_type": "markdown",
   "metadata": {
    "id": "niG_MgK-iV6K"
   },
   "source": [
    "### What Linear Algebra Is"
   ]
  },
  {
   "cell_type": "code",
   "execution_count": null,
   "metadata": {
    "id": "LApX90aliab_"
   },
   "outputs": [],
   "source": [
    "import numpy as np\n",
    "import matplotlib.pyplot as plt"
   ]
  },
  {
   "cell_type": "code",
   "execution_count": null,
   "metadata": {
    "id": "E4odh9Shic1S"
   },
   "outputs": [],
   "source": [
    "t = np.linspace(0, 40, 1000) # start, finish, n points"
   ]
  },
  {
   "cell_type": "markdown",
   "metadata": {
    "id": "N-tYny12nIyO"
   },
   "source": [
    "Distance travelled by robber: $d = 2.5t$"
   ]
  },
  {
   "cell_type": "code",
   "execution_count": null,
   "metadata": {
    "id": "e_zDOxgHiezz"
   },
   "outputs": [],
   "source": [
    "d_r = 2.5 * t"
   ]
  },
  {
   "cell_type": "markdown",
   "metadata": {
    "id": "djVjXZy-nPaR"
   },
   "source": [
    "Distance travelled by sheriff: $d = 3(t-5)$"
   ]
  },
  {
   "cell_type": "code",
   "execution_count": null,
   "metadata": {
    "id": "JtaNeYSCifrI"
   },
   "outputs": [],
   "source": [
    "d_s = 3 * (t-5)"
   ]
  },
  {
   "cell_type": "code",
   "execution_count": null,
   "metadata": {
    "id": "SaaIjJSEigic"
   },
   "outputs": [],
   "source": [
    "fig, ax = plt.subplots()\n",
    "plt.title('A Bank Robber Caught')\n",
    "plt.xlabel('time (in minutes)')\n",
    "plt.ylabel('distance (in km)')\n",
    "ax.set_xlim([0, 40])\n",
    "ax.set_ylim([0, 100])\n",
    "ax.plot(t, d_r, c='green')\n",
    "ax.plot(t, d_s, c='brown')\n",
    "plt.axvline(x=30, color='purple', linestyle='--')\n",
    "_ = plt.axhline(y=75, color='purple', linestyle='--')"
   ]
  },
  {
   "cell_type": "markdown",
   "metadata": {
    "id": "kpwZw64EYfs6"
   },
   "source": [
    "**Return to slides here.**"
   ]
  },
  {
   "cell_type": "markdown",
   "metadata": {
    "id": "NgGMhK4B51oe"
   },
   "source": [
    "### Scalars (Rank 0 Tensors) in Base Python"
   ]
  },
  {
   "cell_type": "code",
   "execution_count": 3,
   "metadata": {
    "colab": {
     "base_uri": "https://localhost:8080/"
    },
    "id": "ZXnTHDn_EW6b",
    "outputId": "7209de1b-9cac-4ab3-d1cf-19ef11445087"
   },
   "outputs": [
    {
     "data": {
      "text/plain": [
       "25"
      ]
     },
     "execution_count": 3,
     "metadata": {},
     "output_type": "execute_result"
    }
   ],
   "source": [
    "x = 25\n",
    "x"
   ]
  },
  {
   "cell_type": "code",
   "execution_count": 4,
   "metadata": {
    "colab": {
     "base_uri": "https://localhost:8080/"
    },
    "id": "VF8Jam76R4KJ",
    "outputId": "cb0412c1-f41a-43dd-aa22-d33b2ff14d98"
   },
   "outputs": [
    {
     "data": {
      "text/plain": [
       "int"
      ]
     },
     "execution_count": 4,
     "metadata": {},
     "output_type": "execute_result"
    }
   ],
   "source": [
    "type(x) # if we'd like more specificity (e.g., int16, uint8), we need NumPy or another numeric library"
   ]
  },
  {
   "cell_type": "code",
   "execution_count": null,
   "metadata": {
    "id": "ZBzYlL0mRd-P"
   },
   "outputs": [],
   "source": [
    "y = 3"
   ]
  },
  {
   "cell_type": "code",
   "execution_count": null,
   "metadata": {
    "id": "1i-hW0bcReyy"
   },
   "outputs": [],
   "source": [
    "py_sum = x + y\n",
    "py_sum"
   ]
  },
  {
   "cell_type": "code",
   "execution_count": null,
   "metadata": {
    "id": "CpyUxB6XRk6y"
   },
   "outputs": [],
   "source": [
    "type(py_sum)"
   ]
  },
  {
   "cell_type": "code",
   "execution_count": null,
   "metadata": {
    "id": "V2UiLj-JR8Ij"
   },
   "outputs": [],
   "source": [
    "x_float = 25.0\n",
    "float_sum = x_float + y\n",
    "float_sum"
   ]
  },
  {
   "cell_type": "code",
   "execution_count": null,
   "metadata": {
    "id": "ikOwjp6ASCaf"
   },
   "outputs": [],
   "source": [
    "type(float_sum)"
   ]
  },
  {
   "cell_type": "markdown",
   "metadata": {
    "id": "SgUvioyUz8T2"
   },
   "source": [
    "### Scalars in PyTorch\n",
    "\n",
    "* PyTorch and TensorFlow are the two most popular *automatic differentiation* libraries (a focus of the [*Calculus I*](https://github.com/jonkrohn/ML-foundations/blob/master/notebooks/3-calculus-i.ipynb) and [*Calculus II*](https://github.com/jonkrohn/ML-foundations/blob/master/notebooks/4-calculus-ii.ipynb) subjects in the *ML Foundations* series) in Python, itself the most popular programming language in ML.\n",
    "* PyTorch tensors are designed to be pythonic, i.e., to feel and behave like NumPy arrays.\n",
    "* The advantage of PyTorch tensors relative to NumPy arrays is that they easily be used for operations on GPU (see [here](https://pytorch.org/tutorials/beginner/examples_tensor/two_layer_net_tensor.html) for example).\n",
    "* Documentation on PyTorch tensors, including available data types, is [here](https://pytorch.org/docs/stable/tensors.html)."
   ]
  },
  {
   "cell_type": "code",
   "execution_count": 8,
   "metadata": {
    "id": "A9Hhazt2zKeD"
   },
   "outputs": [],
   "source": [
    "import torch"
   ]
  },
  {
   "cell_type": "code",
   "execution_count": 12,
   "metadata": {
    "id": "a211IRW_0-iY"
   },
   "outputs": [],
   "source": [
    "x_pt = torch.tensor(205)"
   ]
  },
  {
   "cell_type": "code",
   "execution_count": 10,
   "metadata": {
    "colab": {
     "base_uri": "https://localhost:8080/"
    },
    "id": "LvxzMa_HhUNB",
    "outputId": "a011daca-203c-4c5d-d771-ab36563ae228"
   },
   "outputs": [
    {
     "data": {
      "text/plain": [
       "torch.Size([])"
      ]
     },
     "execution_count": 10,
     "metadata": {},
     "output_type": "execute_result"
    }
   ],
   "source": [
    "x_pt.shape"
   ]
  },
  {
   "cell_type": "markdown",
   "metadata": {
    "id": "eUyuZXlWS8T9"
   },
   "source": [
    "### Scalars in TensorFlow (version 2.0 or later)\n",
    "\n",
    "Tensors created with a wrapper, all of which [you can read about here](https://www.tensorflow.org/guide/tensor):  \n",
    "\n",
    "* `tf.Variable`\n",
    "* `tf.constant`\n",
    "* `tf.placeholder`\n",
    "* `tf.SparseTensor`\n",
    "\n",
    "Most widely-used is `tf.Variable`, which we'll use here.\n",
    "\n",
    "As with TF tensors, in PyTorch we can similarly perform operations, and we can easily convert to and from NumPy arrays.\n",
    "\n",
    "Also, a full list of tensor data types is available [here](https://www.tensorflow.org/api_docs/python/tf/dtypes/DType)."
   ]
  },
  {
   "cell_type": "code",
   "execution_count": null,
   "metadata": {
    "id": "CHBYse_MEqZM"
   },
   "outputs": [],
   "source": [
    "import tensorflow as tf"
   ]
  },
  {
   "cell_type": "code",
   "execution_count": null,
   "metadata": {
    "id": "sDv92Nh-NSOU"
   },
   "outputs": [],
   "source": [
    "x_tf = tf.Variable(25, dtype=tf.int16) # dtype is optional\n",
    "x_tf"
   ]
  },
  {
   "cell_type": "code",
   "execution_count": null,
   "metadata": {
    "id": "EmPMBIV9RQjS"
   },
   "outputs": [],
   "source": [
    "x_tf.shape"
   ]
  },
  {
   "cell_type": "code",
   "execution_count": null,
   "metadata": {
    "id": "mEILtO9pPctO"
   },
   "outputs": [],
   "source": [
    "y_tf = tf.Variable(3, dtype=tf.int16)"
   ]
  },
  {
   "cell_type": "code",
   "execution_count": null,
   "metadata": {
    "id": "dvvWuaw6Ph_D"
   },
   "outputs": [],
   "source": [
    "x_tf + y_tf"
   ]
  },
  {
   "cell_type": "code",
   "execution_count": null,
   "metadata": {
    "id": "JZVhRnX9RUGW"
   },
   "outputs": [],
   "source": [
    "tf_sum = tf.add(x_tf, y_tf)\n",
    "tf_sum"
   ]
  },
  {
   "cell_type": "code",
   "execution_count": null,
   "metadata": {
    "id": "sVbMxT1Ey6Y3"
   },
   "outputs": [],
   "source": [
    "tf_sum.numpy() # note that NumPy operations automatically convert tensors to NumPy arrays, and vice versa"
   ]
  },
  {
   "cell_type": "code",
   "execution_count": null,
   "metadata": {
    "id": "LXpv69t0y-f6"
   },
   "outputs": [],
   "source": [
    "type(tf_sum.numpy())"
   ]
  },
  {
   "cell_type": "code",
   "execution_count": null,
   "metadata": {
    "id": "VszuTUAg1uXk"
   },
   "outputs": [],
   "source": [
    "tf_float = tf.Variable(25., dtype=tf.float16)\n",
    "tf_float"
   ]
  },
  {
   "cell_type": "markdown",
   "metadata": {
    "id": "B5VRGo1H6010"
   },
   "source": [
    "**Return to slides here.**"
   ]
  },
  {
   "cell_type": "markdown",
   "metadata": {
    "id": "4CURG9Er6aZI"
   },
   "source": [
    "### Vectors (Rank 1 Tensors) in NumPy"
   ]
  },
  {
   "cell_type": "code",
   "execution_count": null,
   "metadata": {
    "id": "T9ME4kBr4wg0"
   },
   "outputs": [],
   "source": [
    "x = np.array([25, 2, 5]) # type argument is optional, e.g.: dtype=np.float16\n",
    "x"
   ]
  },
  {
   "cell_type": "code",
   "execution_count": null,
   "metadata": {
    "id": "ZuotxmlZL2wp"
   },
   "outputs": [],
   "source": [
    "len(x)"
   ]
  },
  {
   "cell_type": "code",
   "execution_count": null,
   "metadata": {
    "id": "OlPYy6GOaIVy"
   },
   "outputs": [],
   "source": [
    "x.shape"
   ]
  },
  {
   "cell_type": "code",
   "execution_count": null,
   "metadata": {
    "id": "sWbYGwObcgtK"
   },
   "outputs": [],
   "source": [
    "type(x)"
   ]
  },
  {
   "cell_type": "code",
   "execution_count": null,
   "metadata": {
    "id": "ME_xuvD_oTPg"
   },
   "outputs": [],
   "source": [
    "x[0] # zero-indexed"
   ]
  },
  {
   "cell_type": "code",
   "execution_count": null,
   "metadata": {
    "id": "hXmBHZQ-nxFw"
   },
   "outputs": [],
   "source": [
    "type(x[0])"
   ]
  },
  {
   "cell_type": "markdown",
   "metadata": {
    "id": "NiEofCzYZBrQ"
   },
   "source": [
    "### Vector Transposition"
   ]
  },
  {
   "cell_type": "code",
   "execution_count": null,
   "metadata": {
    "id": "hxGFNDx6V95l"
   },
   "outputs": [],
   "source": [
    "# Transposing a regular 1-D array has no effect...\n",
    "x_t = x.T\n",
    "x_t"
   ]
  },
  {
   "cell_type": "code",
   "execution_count": null,
   "metadata": {
    "id": "_f8E9ExDWw4p"
   },
   "outputs": [],
   "source": [
    "x_t.shape"
   ]
  },
  {
   "cell_type": "code",
   "execution_count": null,
   "metadata": {
    "id": "AEd8jB7YcgtT"
   },
   "outputs": [],
   "source": [
    "# ...but it does we use nested \"matrix-style\" brackets:\n",
    "y = np.array([[25, 2, 5]])\n",
    "y"
   ]
  },
  {
   "cell_type": "code",
   "execution_count": null,
   "metadata": {
    "id": "UHQd92oRcgtV"
   },
   "outputs": [],
   "source": [
    "y.shape"
   ]
  },
  {
   "cell_type": "code",
   "execution_count": null,
   "metadata": {
    "id": "SPi1JqGEXXUc"
   },
   "outputs": [],
   "source": [
    "# ...but can transpose a matrix with a dimension of length 1, which is mathematically equivalent:\n",
    "y_t = y.T\n",
    "y_t"
   ]
  },
  {
   "cell_type": "code",
   "execution_count": null,
   "metadata": {
    "id": "6rzUv762Yjis"
   },
   "outputs": [],
   "source": [
    "y_t.shape # this is a column vector as it has 3 rows and 1 column"
   ]
  },
  {
   "cell_type": "code",
   "execution_count": null,
   "metadata": {
    "id": "xVnQMLOrYtra"
   },
   "outputs": [],
   "source": [
    "# Column vector can be transposed back to original row vector:\n",
    "y_t.T"
   ]
  },
  {
   "cell_type": "code",
   "execution_count": null,
   "metadata": {
    "id": "QIAA2NLRZIXC"
   },
   "outputs": [],
   "source": [
    "y_t.T.shape"
   ]
  },
  {
   "cell_type": "markdown",
   "metadata": {
    "id": "Voj26mSpZLuh"
   },
   "source": [
    "### Zero Vectors\n",
    "\n",
    "Have no effect if added to another vector"
   ]
  },
  {
   "cell_type": "code",
   "execution_count": null,
   "metadata": {
    "id": "-46AbOdkZVn_"
   },
   "outputs": [],
   "source": [
    "z = np.zeros(3)\n",
    "z"
   ]
  },
  {
   "cell_type": "markdown",
   "metadata": {
    "id": "c6xyYiwSnSGC"
   },
   "source": [
    "### Vectors in PyTorch and TensorFlow"
   ]
  },
  {
   "cell_type": "code",
   "execution_count": null,
   "metadata": {
    "id": "s2TGDeqXnitZ"
   },
   "outputs": [],
   "source": [
    "x_pt = torch.tensor([25, 2, 5])\n",
    "x_pt"
   ]
  },
  {
   "cell_type": "code",
   "execution_count": null,
   "metadata": {
    "id": "-0jbHgc5iijG",
    "scrolled": true
   },
   "outputs": [],
   "source": [
    "x_tf = tf.Variable([25, 2, 5])\n",
    "x_tf"
   ]
  },
  {
   "cell_type": "markdown",
   "metadata": {
    "id": "rTDDta1Ro4Pf"
   },
   "source": [
    "**Return to slides here.**"
   ]
  },
  {
   "cell_type": "markdown",
   "metadata": {
    "id": "8fU5qVTI6SLD"
   },
   "source": [
    "### $L^2$ Norm"
   ]
  },
  {
   "cell_type": "code",
   "execution_count": null,
   "metadata": {
    "id": "lLc2FbGG6SLD"
   },
   "outputs": [],
   "source": [
    "x"
   ]
  },
  {
   "cell_type": "code",
   "execution_count": null,
   "metadata": {
    "id": "AN43hsl86SLG"
   },
   "outputs": [],
   "source": [
    "(25**2 + 2**2 + 5**2)**(1/2)"
   ]
  },
  {
   "cell_type": "code",
   "execution_count": null,
   "metadata": {
    "id": "D9CyWo-l6SLI"
   },
   "outputs": [],
   "source": [
    "np.linalg.norm(x)"
   ]
  },
  {
   "cell_type": "markdown",
   "metadata": {
    "id": "TNEMRi926SLK"
   },
   "source": [
    "So, if units in this 3-dimensional vector space are meters, then the vector $x$ has a length of 25.6m"
   ]
  },
  {
   "cell_type": "markdown",
   "metadata": {
    "id": "ugQC6k4h6SLK"
   },
   "source": [
    "**Return to slides here.**"
   ]
  },
  {
   "cell_type": "markdown",
   "metadata": {
    "id": "PwiRlMuC6SLK"
   },
   "source": [
    "### $L^1$ Norm"
   ]
  },
  {
   "cell_type": "code",
   "execution_count": null,
   "metadata": {
    "id": "lcYKyc5H6SLL"
   },
   "outputs": [],
   "source": [
    "x"
   ]
  },
  {
   "cell_type": "code",
   "execution_count": null,
   "metadata": {
    "id": "8jNb6nYl6SLM"
   },
   "outputs": [],
   "source": [
    "np.abs(25) + np.abs(2) + np.abs(5)"
   ]
  },
  {
   "cell_type": "markdown",
   "metadata": {
    "id": "WTPz0EBSAVee"
   },
   "source": [
    "**Return to slides here.**"
   ]
  },
  {
   "cell_type": "markdown",
   "metadata": {
    "id": "lQP73B916SLP"
   },
   "source": [
    "### Squared $L^2$ Norm"
   ]
  },
  {
   "cell_type": "code",
   "execution_count": null,
   "metadata": {
    "id": "Qv1ouJ8r6SLP"
   },
   "outputs": [],
   "source": [
    "x"
   ]
  },
  {
   "cell_type": "code",
   "execution_count": null,
   "metadata": {
    "id": "eG3WSB5R6SLT"
   },
   "outputs": [],
   "source": [
    "(25**2 + 2**2 + 5**2)"
   ]
  },
  {
   "cell_type": "code",
   "execution_count": null,
   "metadata": {
    "id": "bXwzSudS6SLV"
   },
   "outputs": [],
   "source": [
    "# we'll cover tensor multiplication more soon but to prove point quickly:\n",
    "np.dot(x, x)"
   ]
  },
  {
   "cell_type": "markdown",
   "metadata": {
    "id": "q3CIH9ba6SLX"
   },
   "source": [
    "**Return to slides here.**"
   ]
  },
  {
   "cell_type": "markdown",
   "metadata": {
    "id": "BHWxVPFC6SLX"
   },
   "source": [
    "### Max Norm"
   ]
  },
  {
   "cell_type": "code",
   "execution_count": null,
   "metadata": {
    "id": "vO-zfvDG6SLX"
   },
   "outputs": [],
   "source": [
    "x"
   ]
  },
  {
   "cell_type": "code",
   "execution_count": null,
   "metadata": {
    "id": "vXXLgbyW6SLZ"
   },
   "outputs": [],
   "source": [
    "np.max([np.abs(25), np.abs(2), np.abs(5)])"
   ]
  },
  {
   "cell_type": "markdown",
   "metadata": {
    "id": "3MVTsXA8nNR0"
   },
   "source": [
    "**Return to slides here.**"
   ]
  },
  {
   "cell_type": "markdown",
   "metadata": {
    "id": "JzKlIpYZcgt9"
   },
   "source": [
    "### Orthogonal Vectors"
   ]
  },
  {
   "cell_type": "code",
   "execution_count": null,
   "metadata": {
    "id": "4jHg9La-cgt9"
   },
   "outputs": [],
   "source": [
    "i = np.array([1, 0])\n",
    "i"
   ]
  },
  {
   "cell_type": "code",
   "execution_count": null,
   "metadata": {
    "id": "3FyLhPK3cguA"
   },
   "outputs": [],
   "source": [
    "j = np.array([0, 1])\n",
    "j"
   ]
  },
  {
   "cell_type": "code",
   "execution_count": null,
   "metadata": {
    "id": "7eQtKhaDcguC"
   },
   "outputs": [],
   "source": [
    "np.dot(i, j) # detail on the dot operation coming up..."
   ]
  },
  {
   "cell_type": "markdown",
   "metadata": {
    "id": "C6eMVPu4nNR7"
   },
   "source": [
    "**Return to slides here.**"
   ]
  },
  {
   "cell_type": "markdown",
   "metadata": {
    "id": "mK3AZH53o8Br"
   },
   "source": [
    "### Matrices (Rank 2 Tensors) in NumPy"
   ]
  },
  {
   "cell_type": "code",
   "execution_count": null,
   "metadata": {
    "id": "stk57cmaESW1"
   },
   "outputs": [],
   "source": [
    "# Use array() with nested brackets:\n",
    "X = np.array([[25, 2], [5, 26], [3, 7]])\n",
    "X"
   ]
  },
  {
   "cell_type": "code",
   "execution_count": null,
   "metadata": {
    "id": "IhDL4L8S6SLc"
   },
   "outputs": [],
   "source": [
    "X.shape"
   ]
  },
  {
   "cell_type": "code",
   "execution_count": null,
   "metadata": {
    "id": "q3oyaAK36SLe"
   },
   "outputs": [],
   "source": [
    "X.size"
   ]
  },
  {
   "cell_type": "code",
   "execution_count": null,
   "metadata": {
    "id": "YN9CHzja6SLg"
   },
   "outputs": [],
   "source": [
    "# Select left column of matrix X (zero-indexed)\n",
    "X[:,0]"
   ]
  },
  {
   "cell_type": "code",
   "execution_count": null,
   "metadata": {
    "id": "ih7nh4qC6SLi"
   },
   "outputs": [],
   "source": [
    "# Select middle row of matrix X:\n",
    "X[1,:]"
   ]
  },
  {
   "cell_type": "code",
   "execution_count": null,
   "metadata": {
    "id": "pg7numxP6SLl"
   },
   "outputs": [],
   "source": [
    "# Another slicing-by-index example:\n",
    "X[0:2, 0:2]"
   ]
  },
  {
   "cell_type": "markdown",
   "metadata": {
    "id": "HGEfZiBb6SLt"
   },
   "source": [
    "### Matrices in PyTorch"
   ]
  },
  {
   "cell_type": "code",
   "execution_count": null,
   "metadata": {
    "id": "-bibT9ye6SLt"
   },
   "outputs": [],
   "source": [
    "X_pt = torch.tensor([[25, 2], [5, 26], [3, 7]])\n",
    "X_pt"
   ]
  },
  {
   "cell_type": "code",
   "execution_count": null,
   "metadata": {
    "id": "TBPu1L7P6SLv"
   },
   "outputs": [],
   "source": [
    "X_pt.shape # pythonic relative to TensorFlow"
   ]
  },
  {
   "cell_type": "code",
   "execution_count": null,
   "metadata": {
    "id": "4mTj56M16SLw"
   },
   "outputs": [],
   "source": [
    "X_pt[1,:] # N.B.: Python is zero-indexed; written algebra is one-indexed"
   ]
  },
  {
   "cell_type": "markdown",
   "metadata": {
    "id": "E026fQlD6SLn"
   },
   "source": [
    "### Matrices in TensorFlow"
   ]
  },
  {
   "cell_type": "code",
   "execution_count": null,
   "metadata": {
    "id": "1gtGH6oA6SLn"
   },
   "outputs": [],
   "source": [
    "X_tf = tf.Variable([[25, 2], [5, 26], [3, 7]])\n",
    "X_tf"
   ]
  },
  {
   "cell_type": "code",
   "execution_count": null,
   "metadata": {
    "id": "4CV_KiTP6SLp"
   },
   "outputs": [],
   "source": [
    "tf.rank(X_tf)"
   ]
  },
  {
   "cell_type": "code",
   "execution_count": null,
   "metadata": {
    "id": "vUsce8tC6SLq"
   },
   "outputs": [],
   "source": [
    "tf.shape(X_tf)"
   ]
  },
  {
   "cell_type": "code",
   "execution_count": null,
   "metadata": {
    "id": "QNpfvNPj6SLr"
   },
   "outputs": [],
   "source": [
    "X_tf[1,:]"
   ]
  },
  {
   "cell_type": "markdown",
   "metadata": {
    "id": "CodS4evY6SLy"
   },
   "source": [
    "**Return to slides here.**"
   ]
  },
  {
   "cell_type": "markdown",
   "metadata": {
    "id": "cMpfujF_6SLy"
   },
   "source": [
    "### Higher-Rank Tensors\n",
    "\n",
    "As an example, rank 4 tensors are common for images, where each dimension corresponds to:\n",
    "\n",
    "1. Number of images in training batch, e.g., 32\n",
    "2. Image height in pixels, e.g., 28 for [MNIST digits](http://yann.lecun.com/exdb/mnist/)\n",
    "3. Image width in pixels, e.g., 28\n",
    "4. Number of color channels, e.g., 3 for full-color images (RGB)"
   ]
  },
  {
   "cell_type": "code",
   "execution_count": null,
   "metadata": {
    "id": "KSZlICRR6SL1"
   },
   "outputs": [],
   "source": [
    "images_pt = torch.zeros([32, 28, 28, 3])"
   ]
  },
  {
   "cell_type": "code",
   "execution_count": null,
   "metadata": {
    "id": "6Dqj0vmh6SL2"
   },
   "outputs": [],
   "source": [
    "# images_pt"
   ]
  },
  {
   "cell_type": "code",
   "execution_count": null,
   "metadata": {
    "id": "7TASTVD96SLy"
   },
   "outputs": [],
   "source": [
    "images_tf = tf.zeros([32, 28, 28, 3])"
   ]
  },
  {
   "cell_type": "code",
   "execution_count": null,
   "metadata": {
    "id": "ftOliyru6SL0"
   },
   "outputs": [],
   "source": [
    "# images_tf"
   ]
  },
  {
   "cell_type": "markdown",
   "metadata": {
    "id": "O3sgkdXZ6SL3"
   },
   "source": [
    "**Return to slides here.**"
   ]
  },
  {
   "cell_type": "markdown",
   "metadata": {
    "id": "lmG3LEZK6SL4"
   },
   "source": [
    "## Segment 2: Common Tensor Operations"
   ]
  },
  {
   "cell_type": "markdown",
   "metadata": {
    "id": "iSHGMCxd6SL4"
   },
   "source": [
    "### Tensor Transposition"
   ]
  },
  {
   "cell_type": "code",
   "execution_count": null,
   "metadata": {
    "id": "1YN1narR6SL4"
   },
   "outputs": [],
   "source": [
    "X"
   ]
  },
  {
   "cell_type": "code",
   "execution_count": null,
   "metadata": {
    "id": "5hf3M_NL6SL5"
   },
   "outputs": [],
   "source": [
    "X.T"
   ]
  },
  {
   "cell_type": "code",
   "execution_count": null,
   "metadata": {
    "id": "vyBFN_4g6SL9"
   },
   "outputs": [],
   "source": [
    "X_pt.T"
   ]
  },
  {
   "cell_type": "code",
   "execution_count": null,
   "metadata": {
    "id": "K2DuDJc_6SL6"
   },
   "outputs": [],
   "source": [
    "tf.transpose(X_tf) # less Pythonic"
   ]
  },
  {
   "cell_type": "markdown",
   "metadata": {
    "id": "Hp9P1jx76SL_"
   },
   "source": [
    "### Basic Arithmetical Properties"
   ]
  },
  {
   "cell_type": "markdown",
   "metadata": {
    "id": "WxaImEUc6SMA"
   },
   "source": [
    "Adding or multiplying with scalar applies operation to all elements and tensor shape is retained:"
   ]
  },
  {
   "cell_type": "code",
   "execution_count": null,
   "metadata": {
    "id": "yhXGETii6SMA"
   },
   "outputs": [],
   "source": [
    "X*2"
   ]
  },
  {
   "cell_type": "code",
   "execution_count": null,
   "metadata": {
    "id": "KnPULtDO6SMC"
   },
   "outputs": [],
   "source": [
    "X+2"
   ]
  },
  {
   "cell_type": "code",
   "execution_count": null,
   "metadata": {
    "id": "MkfC0Gsb6SMD"
   },
   "outputs": [],
   "source": [
    "X*2+2"
   ]
  },
  {
   "cell_type": "code",
   "execution_count": null,
   "metadata": {
    "id": "04bIDpGj6SMH"
   },
   "outputs": [],
   "source": [
    "X_pt*2+2 # Python operators are overloaded; could alternatively use torch.mul() or torch.add()"
   ]
  },
  {
   "cell_type": "code",
   "execution_count": null,
   "metadata": {
    "id": "2oRBSmRL6SMI"
   },
   "outputs": [],
   "source": [
    "torch.add(torch.mul(X_pt, 2), 2)"
   ]
  },
  {
   "cell_type": "code",
   "execution_count": null,
   "metadata": {
    "id": "OMSb9Otd6SMF"
   },
   "outputs": [],
   "source": [
    "X_tf*2+2 # Operators likewise overloaded; could equally use tf.multiply() tf.add()"
   ]
  },
  {
   "cell_type": "code",
   "execution_count": null,
   "metadata": {
    "id": "5ya2xZ4u6SMG"
   },
   "outputs": [],
   "source": [
    "tf.add(tf.multiply(X_tf, 2), 2)"
   ]
  },
  {
   "cell_type": "markdown",
   "metadata": {
    "id": "wt8Ls4076SMK"
   },
   "source": [
    "If two tensors have the same size, operations are often by default applied element-wise. This is **not matrix multiplication**, which we'll cover later, but is rather called the **Hadamard product** or simply the **element-wise product**.\n",
    "\n",
    "The mathematical notation is $A \\odot X$"
   ]
  },
  {
   "cell_type": "code",
   "execution_count": null,
   "metadata": {
    "id": "KUMyU1t46SMK"
   },
   "outputs": [],
   "source": [
    "X"
   ]
  },
  {
   "cell_type": "code",
   "execution_count": null,
   "metadata": {
    "id": "UNIbp0P36SML"
   },
   "outputs": [],
   "source": [
    "A = X+2\n",
    "A"
   ]
  },
  {
   "cell_type": "code",
   "execution_count": null,
   "metadata": {
    "id": "HE9xPWPdcgu4"
   },
   "outputs": [],
   "source": [
    "A + X"
   ]
  },
  {
   "cell_type": "code",
   "execution_count": null,
   "metadata": {
    "id": "xKyCwGia6SMP"
   },
   "outputs": [],
   "source": [
    "A * X"
   ]
  },
  {
   "cell_type": "code",
   "execution_count": null,
   "metadata": {
    "id": "B5jXGIBp6SMT"
   },
   "outputs": [],
   "source": [
    "A_pt = X_pt + 2"
   ]
  },
  {
   "cell_type": "code",
   "execution_count": null,
   "metadata": {
    "id": "A7k6yxu36SMU"
   },
   "outputs": [],
   "source": [
    "A_pt + X_pt"
   ]
  },
  {
   "cell_type": "code",
   "execution_count": null,
   "metadata": {
    "id": "r8vOul0m6SMW"
   },
   "outputs": [],
   "source": [
    "A_pt * X_pt"
   ]
  },
  {
   "cell_type": "code",
   "execution_count": null,
   "metadata": {
    "id": "rQcBMSb76SMQ"
   },
   "outputs": [],
   "source": [
    "A_tf = X_tf + 2"
   ]
  },
  {
   "cell_type": "code",
   "execution_count": null,
   "metadata": {
    "id": "x6s1wtNj6SMR"
   },
   "outputs": [],
   "source": [
    "A_tf + X_tf"
   ]
  },
  {
   "cell_type": "code",
   "execution_count": null,
   "metadata": {
    "id": "J1D7--296SMS"
   },
   "outputs": [],
   "source": [
    "A_tf * X_tf"
   ]
  },
  {
   "cell_type": "markdown",
   "metadata": {
    "id": "FE5f-FEq6SMY"
   },
   "source": [
    "### Reduction"
   ]
  },
  {
   "cell_type": "markdown",
   "metadata": {
    "id": "WPJ9FVQF6SMY"
   },
   "source": [
    "Calculating the sum across all elements of a tensor is a common operation. For example:\n",
    "\n",
    "* For vector ***x*** of length *n*, we calculate $\\sum_{i=1}^{n} x_i$\n",
    "* For matrix ***X*** with *m* by *n* dimensions, we calculate $\\sum_{i=1}^{m} \\sum_{j=1}^{n} X_{i,j}$"
   ]
  },
  {
   "cell_type": "code",
   "execution_count": null,
   "metadata": {
    "id": "rXi2stvz6SMZ"
   },
   "outputs": [],
   "source": [
    "X"
   ]
  },
  {
   "cell_type": "code",
   "execution_count": null,
   "metadata": {
    "id": "W9FKaJbf6SMZ"
   },
   "outputs": [],
   "source": [
    "X.sum()"
   ]
  },
  {
   "cell_type": "code",
   "execution_count": null,
   "metadata": {
    "id": "3y9aw7t66SMc"
   },
   "outputs": [],
   "source": [
    "torch.sum(X_pt)"
   ]
  },
  {
   "cell_type": "code",
   "execution_count": null,
   "metadata": {
    "id": "wcjRtFml6SMb"
   },
   "outputs": [],
   "source": [
    "tf.reduce_sum(X_tf)"
   ]
  },
  {
   "cell_type": "code",
   "execution_count": null,
   "metadata": {
    "id": "awjH9bOz6SMc"
   },
   "outputs": [],
   "source": [
    "# Can also be done along one specific axis alone, e.g.:\n",
    "X.sum(axis=0) # summing over all rows (i.e., along columns)"
   ]
  },
  {
   "cell_type": "code",
   "execution_count": null,
   "metadata": {
    "id": "n2SASjsn6SMd"
   },
   "outputs": [],
   "source": [
    "X.sum(axis=1) # summing over all columns (i.e., along rows)"
   ]
  },
  {
   "cell_type": "code",
   "execution_count": null,
   "metadata": {
    "id": "uVnSxvSJ6SMh"
   },
   "outputs": [],
   "source": [
    "torch.sum(X_pt, 0)"
   ]
  },
  {
   "cell_type": "code",
   "execution_count": null,
   "metadata": {
    "id": "IO8drxz36SMe"
   },
   "outputs": [],
   "source": [
    "tf.reduce_sum(X_tf, 1)"
   ]
  },
  {
   "cell_type": "markdown",
   "metadata": {
    "id": "gdAe8S4A6SMj"
   },
   "source": [
    "Many other operations can be applied with reduction along all or a selection of axes, e.g.:\n",
    "\n",
    "* maximum\n",
    "* minimum\n",
    "* mean\n",
    "* product\n",
    "\n",
    "They're fairly straightforward and used less often than summation, so you're welcome to look them up in library docs if you ever need them."
   ]
  },
  {
   "cell_type": "markdown",
   "metadata": {
    "id": "r2eW8S_46SMj"
   },
   "source": [
    "### The Dot Product"
   ]
  },
  {
   "cell_type": "markdown",
   "metadata": {
    "id": "LImETgD76SMj"
   },
   "source": [
    "If we have two vectors (say, ***x*** and ***y***) with the same length *n*, we can calculate the dot product between them. This is annotated several different ways, including the following:\n",
    "\n",
    "* $x \\cdot y$\n",
    "* $x^Ty$\n",
    "* $\\langle x,y \\rangle$\n",
    "\n",
    "Regardless which notation you use (I prefer the first), the calculation is the same; we calculate products in an element-wise fashion and then sum reductively across the products to a scalar value. That is, $x \\cdot y = \\sum_{i=1}^{n} x_i y_i$\n",
    "\n",
    "The dot product is ubiquitous in deep learning: It is performed at every artificial neuron in a deep neural network, which may be made up of millions (or orders of magnitude more) of these neurons."
   ]
  },
  {
   "cell_type": "code",
   "execution_count": null,
   "metadata": {
    "id": "HveIE3IDcgvP"
   },
   "outputs": [],
   "source": [
    "x"
   ]
  },
  {
   "cell_type": "code",
   "execution_count": null,
   "metadata": {
    "id": "3ZjkZcvVcgvQ"
   },
   "outputs": [],
   "source": [
    "y = np.array([0, 1, 2])\n",
    "y"
   ]
  },
  {
   "cell_type": "code",
   "execution_count": null,
   "metadata": {
    "id": "Xu8z0QB0cgvR"
   },
   "outputs": [],
   "source": [
    "25*0 + 2*1 + 5*2"
   ]
  },
  {
   "cell_type": "code",
   "execution_count": null,
   "metadata": {
    "id": "ThehRrr8cgvS"
   },
   "outputs": [],
   "source": [
    "np.dot(x, y)"
   ]
  },
  {
   "cell_type": "code",
   "execution_count": null,
   "metadata": {
    "id": "J5Zdua4xcgvT"
   },
   "outputs": [],
   "source": [
    "x_pt"
   ]
  },
  {
   "cell_type": "code",
   "execution_count": null,
   "metadata": {
    "id": "b3vEdroXcgvU"
   },
   "outputs": [],
   "source": [
    "y_pt = torch.tensor([0, 1, 2])\n",
    "y_pt"
   ]
  },
  {
   "cell_type": "code",
   "execution_count": null,
   "metadata": {
    "id": "F741E5imcgvV"
   },
   "outputs": [],
   "source": [
    "np.dot(x_pt, y_pt)"
   ]
  },
  {
   "cell_type": "code",
   "execution_count": null,
   "metadata": {
    "id": "-W5loHc8cgvX"
   },
   "outputs": [],
   "source": [
    "torch.dot(torch.tensor([25, 2, 5.]), torch.tensor([0, 1, 2.]))"
   ]
  },
  {
   "cell_type": "code",
   "execution_count": null,
   "metadata": {
    "id": "jUwKBiqzcgvY"
   },
   "outputs": [],
   "source": [
    "x_tf"
   ]
  },
  {
   "cell_type": "code",
   "execution_count": null,
   "metadata": {
    "id": "Xqt3Rac7cgvZ"
   },
   "outputs": [],
   "source": [
    "y_tf = tf.Variable([0, 1, 2])\n",
    "y_tf"
   ]
  },
  {
   "cell_type": "code",
   "execution_count": null,
   "metadata": {
    "id": "x4pgc5JEcgvc"
   },
   "outputs": [],
   "source": [
    "tf.reduce_sum(tf.multiply(x_tf, y_tf))"
   ]
  },
  {
   "cell_type": "markdown",
   "metadata": {
    "id": "mSmvC1cc6SMj"
   },
   "source": [
    "**Return to slides here.**"
   ]
  },
  {
   "cell_type": "markdown",
   "metadata": {
    "id": "9dfTV7hQR6zn"
   },
   "source": [
    "### Solving Linear Systems"
   ]
  },
  {
   "cell_type": "markdown",
   "metadata": {
    "id": "pCoSpqtWSyFd"
   },
   "source": [
    "In the **Substitution** example, the two equations in the system are:\n",
    "$$ y = 3x $$\n",
    "$$ -5x + 2y = 2 $$\n",
    "\n",
    "The second equation can be rearranged to isolate $y$:\n",
    "$$ 2y = 2 + 5x $$\n",
    "$$ y = \\frac{2 + 5x}{2} = 1 + \\frac{5x}{2} $$"
   ]
  },
  {
   "cell_type": "code",
   "execution_count": null,
   "metadata": {
    "id": "1T0_m11kTh82"
   },
   "outputs": [],
   "source": [
    "x = np.linspace(-10, 10, 1000) # start, finish, n points"
   ]
  },
  {
   "cell_type": "code",
   "execution_count": null,
   "metadata": {
    "id": "_K6IyUWcTh85"
   },
   "outputs": [],
   "source": [
    "y1 = 3 * x"
   ]
  },
  {
   "cell_type": "code",
   "execution_count": null,
   "metadata": {
    "id": "DYkQdUJ5Th86"
   },
   "outputs": [],
   "source": [
    "y2 = 1 + (5*x)/2"
   ]
  },
  {
   "cell_type": "code",
   "execution_count": null,
   "metadata": {
    "id": "aBL9NDoHTh86"
   },
   "outputs": [],
   "source": [
    "fig, ax = plt.subplots()\n",
    "plt.xlabel('x')\n",
    "plt.ylabel('y')\n",
    "ax.set_xlim([0, 3])\n",
    "ax.set_ylim([0, 8])\n",
    "ax.plot(x, y1, c='green')\n",
    "ax.plot(x, y2, c='brown')\n",
    "plt.axvline(x=2, color='purple', linestyle='--')\n",
    "_ = plt.axhline(y=6, color='purple', linestyle='--')"
   ]
  },
  {
   "cell_type": "markdown",
   "metadata": {
    "id": "vACSnJgP87xA"
   },
   "source": [
    "**Return to slides here.**"
   ]
  },
  {
   "cell_type": "markdown",
   "metadata": {
    "id": "F3X4p66XVFXH"
   },
   "source": [
    "In the **Elimination** example, the two equations in the system are:\n",
    "$$ 2x - 3y = 15 $$\n",
    "$$ 4x + 10y = 14 $$\n",
    "\n",
    "Both equations can be rearranged to isolate $y$. Starting with the first equation:\n",
    "$$ -3y = 15 - 2x $$\n",
    "$$ y = \\frac{15 - 2x}{-3} = -5 + \\frac{2x}{3} $$\n",
    "\n",
    "Then for the second equation:\n",
    "$$ 4x + 10y = 14 $$\n",
    "$$ 2x + 5y = 7 $$\n",
    "$$ 5y = 7 - 2x $$\n",
    "$$ y = \\frac{7 - 2x}{5} $$"
   ]
  },
  {
   "cell_type": "code",
   "execution_count": null,
   "metadata": {
    "id": "5x3kfV_WWhlR"
   },
   "outputs": [],
   "source": [
    "y1 = -5 + (2*x)/3"
   ]
  },
  {
   "cell_type": "code",
   "execution_count": null,
   "metadata": {
    "id": "dqA1lS0CWu5z"
   },
   "outputs": [],
   "source": [
    "y2 = (7-2*x)/5"
   ]
  },
  {
   "cell_type": "code",
   "execution_count": null,
   "metadata": {
    "id": "6CfRNs1DWzx5"
   },
   "outputs": [],
   "source": [
    "fig, ax = plt.subplots()\n",
    "plt.xlabel('x')\n",
    "plt.ylabel('y')\n",
    "\n",
    "# Add x and y axes:\n",
    "plt.axvline(x=0, color='lightgray')\n",
    "plt.axhline(y=0, color='lightgray')\n",
    "\n",
    "ax.set_xlim([-2, 10])\n",
    "ax.set_ylim([-6, 4])\n",
    "ax.plot(x, y1, c='green')\n",
    "ax.plot(x, y2, c='brown')\n",
    "plt.axvline(x=6, color='purple', linestyle='--')\n",
    "_ = plt.axhline(y=-1, color='purple', linestyle='--')"
   ]
  },
  {
   "cell_type": "markdown",
   "metadata": {
    "id": "CezB87Tb-QGh"
   },
   "source": [
    "**Return to slides here.**"
   ]
  },
  {
   "cell_type": "markdown",
   "metadata": {
    "id": "bYDhomCP6SMj"
   },
   "source": [
    "## Segment 3: Matrix Properties"
   ]
  },
  {
   "cell_type": "markdown",
   "metadata": {
    "id": "-HGU_an66SMk"
   },
   "source": [
    "### Frobenius Norm"
   ]
  },
  {
   "cell_type": "code",
   "execution_count": null,
   "metadata": {
    "id": "pNQHvAqN6SMk"
   },
   "outputs": [],
   "source": [
    "X = np.array([[1, 2], [3, 4]])\n",
    "X"
   ]
  },
  {
   "cell_type": "code",
   "execution_count": null,
   "metadata": {
    "id": "T-q-Tzn26SMm"
   },
   "outputs": [],
   "source": [
    "(1**2 + 2**2 + 3**2 + 4**2)**(1/2)"
   ]
  },
  {
   "cell_type": "code",
   "execution_count": null,
   "metadata": {
    "id": "YVG8qiFw6SMn"
   },
   "outputs": [],
   "source": [
    "np.linalg.norm(X) # same function as for vector L2 norm"
   ]
  },
  {
   "cell_type": "code",
   "execution_count": null,
   "metadata": {
    "id": "FPnBflKVxyik"
   },
   "outputs": [],
   "source": [
    "X_pt = torch.tensor([[1, 2], [3, 4.]]) # torch.norm() supports floats only"
   ]
  },
  {
   "cell_type": "code",
   "execution_count": null,
   "metadata": {
    "id": "NCdTShVyx8z0"
   },
   "outputs": [],
   "source": [
    "torch.norm(X_pt)"
   ]
  },
  {
   "cell_type": "code",
   "execution_count": null,
   "metadata": {
    "id": "blezf9fLx_nD"
   },
   "outputs": [],
   "source": [
    "X_tf = tf.Variable([[1, 2], [3, 4.]]) # tf.norm() also supports floats only"
   ]
  },
  {
   "cell_type": "code",
   "execution_count": null,
   "metadata": {
    "id": "LiCQzyf6ySCZ"
   },
   "outputs": [],
   "source": [
    "tf.norm(X_tf)"
   ]
  },
  {
   "cell_type": "markdown",
   "metadata": {
    "id": "4c6rjVAf6SMo"
   },
   "source": [
    "**Return to slides here.**"
   ]
  },
  {
   "cell_type": "markdown",
   "metadata": {
    "id": "OLN-MMIe6SMo"
   },
   "source": [
    "### Matrix Multiplication (with a Vector)"
   ]
  },
  {
   "cell_type": "code",
   "execution_count": null,
   "metadata": {
    "id": "XJw0j8cr6SMo"
   },
   "outputs": [],
   "source": [
    "A = np.array([[3, 4], [5, 6], [7, 8]])\n",
    "A"
   ]
  },
  {
   "cell_type": "code",
   "execution_count": null,
   "metadata": {
    "id": "zZQ1Aupc6SMq"
   },
   "outputs": [],
   "source": [
    "b = np.array([1, 2])\n",
    "b"
   ]
  },
  {
   "cell_type": "code",
   "execution_count": null,
   "metadata": {
    "id": "ZbeVtNyW6SMq"
   },
   "outputs": [],
   "source": [
    "np.dot(A, b) # even though technically dot products are between vectors only"
   ]
  },
  {
   "cell_type": "code",
   "execution_count": null,
   "metadata": {
    "id": "srVI55X96SMu"
   },
   "outputs": [],
   "source": [
    "A_pt = torch.tensor([[3, 4], [5, 6], [7, 8]])\n",
    "A_pt"
   ]
  },
  {
   "cell_type": "code",
   "execution_count": null,
   "metadata": {
    "id": "5SDn71Xc6SMv"
   },
   "outputs": [],
   "source": [
    "b_pt = torch.tensor([1, 2])\n",
    "b_pt"
   ]
  },
  {
   "cell_type": "code",
   "execution_count": null,
   "metadata": {
    "id": "OIeoJlsh6SMx"
   },
   "outputs": [],
   "source": [
    "torch.matmul(A_pt, b_pt) # like np.dot(), automatically infers dims in order to perform dot product, matvec, or matrix multiplication"
   ]
  },
  {
   "cell_type": "code",
   "execution_count": null,
   "metadata": {
    "id": "pnob9GkB6SMs"
   },
   "outputs": [],
   "source": [
    "A_tf = tf.Variable([[3, 4], [5, 6], [7, 8]])\n",
    "A_tf"
   ]
  },
  {
   "cell_type": "code",
   "execution_count": null,
   "metadata": {
    "id": "vYtWxf8K6SMt"
   },
   "outputs": [],
   "source": [
    "b_tf = tf.Variable([1, 2])\n",
    "b_tf"
   ]
  },
  {
   "cell_type": "code",
   "execution_count": null,
   "metadata": {
    "id": "NGBImWRH6SMt"
   },
   "outputs": [],
   "source": [
    "tf.linalg.matvec(A_tf, b_tf)"
   ]
  },
  {
   "cell_type": "markdown",
   "metadata": {
    "id": "kzjZmdRR6SMy"
   },
   "source": [
    "**Return to slides here.**"
   ]
  },
  {
   "cell_type": "markdown",
   "metadata": {
    "id": "21ySqay36SM5"
   },
   "source": [
    "### Matrix Multiplication (with Two Matrices)"
   ]
  },
  {
   "cell_type": "code",
   "execution_count": null,
   "metadata": {
    "id": "0YRG1Ig2cgvo"
   },
   "outputs": [],
   "source": [
    "A"
   ]
  },
  {
   "cell_type": "code",
   "execution_count": null,
   "metadata": {
    "id": "DyOEZk_c6SM5"
   },
   "outputs": [],
   "source": [
    "B = np.array([[1, 9], [2, 0]])\n",
    "B"
   ]
  },
  {
   "cell_type": "code",
   "execution_count": null,
   "metadata": {
    "id": "SfKuNxH-6SM6"
   },
   "outputs": [],
   "source": [
    "np.dot(A, B)"
   ]
  },
  {
   "cell_type": "markdown",
   "metadata": {
    "id": "WcnQMF0s6SNB"
   },
   "source": [
    "Note that matrix multiplication is not \"commutative\" (i.e., $AB \\neq BA$) so uncommenting the following line will throw a size mismatch error:"
   ]
  },
  {
   "cell_type": "code",
   "execution_count": null,
   "metadata": {
    "id": "_mwBGOXO6SNB"
   },
   "outputs": [],
   "source": [
    "# np.dot(B, A)"
   ]
  },
  {
   "cell_type": "code",
   "execution_count": null,
   "metadata": {
    "id": "JrrvPoNE6SM9"
   },
   "outputs": [],
   "source": [
    "B_pt = torch.from_numpy(B) # much cleaner than TF conversion\n",
    "B_pt"
   ]
  },
  {
   "cell_type": "code",
   "execution_count": null,
   "metadata": {
    "id": "Z6PfwCvX6SM-"
   },
   "outputs": [],
   "source": [
    "# another neat way to create the same tensor with transposition:\n",
    "B_pt = torch.tensor([[1, 2], [9, 0]]).T\n",
    "B_pt"
   ]
  },
  {
   "cell_type": "code",
   "execution_count": null,
   "metadata": {
    "id": "16ZNRaVe6SM_"
   },
   "outputs": [],
   "source": [
    "torch.matmul(A_pt, B_pt) # no need to change functions, unlike in TF"
   ]
  },
  {
   "cell_type": "code",
   "execution_count": null,
   "metadata": {
    "id": "rkymNjE46SM8"
   },
   "outputs": [],
   "source": [
    "B_tf = tf.convert_to_tensor(B, dtype=tf.int32)\n",
    "B_tf"
   ]
  },
  {
   "cell_type": "code",
   "execution_count": null,
   "metadata": {
    "id": "rslTzFRk6SM8"
   },
   "outputs": [],
   "source": [
    "tf.matmul(A_tf, B_tf)"
   ]
  },
  {
   "cell_type": "markdown",
   "metadata": {
    "id": "0eBiTmPp6SNC"
   },
   "source": [
    "**Return to slides here.**"
   ]
  },
  {
   "cell_type": "markdown",
   "metadata": {
    "id": "L2H9F-DQ6SMz"
   },
   "source": [
    "### Symmetric Matrices"
   ]
  },
  {
   "cell_type": "code",
   "execution_count": null,
   "metadata": {
    "id": "5YsPoWo76SMz"
   },
   "outputs": [],
   "source": [
    "X_sym = np.array([[0, 1, 2], [1, 7, 8], [2, 8, 9]])\n",
    "X_sym"
   ]
  },
  {
   "cell_type": "code",
   "execution_count": null,
   "metadata": {
    "id": "Skg1wSQVcgv2"
   },
   "outputs": [],
   "source": [
    "X_sym.T"
   ]
  },
  {
   "cell_type": "code",
   "execution_count": null,
   "metadata": {
    "id": "Jv40-i9H6SM1"
   },
   "outputs": [],
   "source": [
    "X_sym.T == X_sym"
   ]
  },
  {
   "cell_type": "markdown",
   "metadata": {
    "id": "QZFoUFkq6SM2"
   },
   "source": [
    "**Return to slides here.**"
   ]
  },
  {
   "cell_type": "markdown",
   "metadata": {
    "id": "Mq_c3ftZ6SM2"
   },
   "source": [
    "### Identity Matrices"
   ]
  },
  {
   "cell_type": "code",
   "execution_count": null,
   "metadata": {
    "id": "KVSNbH-Z6SM2"
   },
   "outputs": [],
   "source": [
    "I = torch.tensor([[1, 0, 0], [0, 1, 0], [0, 0, 1]])\n",
    "I"
   ]
  },
  {
   "cell_type": "code",
   "execution_count": null,
   "metadata": {
    "id": "wcoPDhvR6SM3"
   },
   "outputs": [],
   "source": [
    "x_pt = torch.tensor([25, 2, 5])\n",
    "x_pt"
   ]
  },
  {
   "cell_type": "code",
   "execution_count": null,
   "metadata": {
    "id": "tuA4RsMv6SM4"
   },
   "outputs": [],
   "source": [
    "torch.matmul(I, x_pt)"
   ]
  },
  {
   "cell_type": "markdown",
   "metadata": {
    "id": "bgDiOYLk6SM5"
   },
   "source": [
    "**Return to slides here.**"
   ]
  },
  {
   "cell_type": "markdown",
   "metadata": {
    "id": "3S_6Yfdkcgv7"
   },
   "source": [
    "### Answers to Matrix Multiplication Qs"
   ]
  },
  {
   "cell_type": "code",
   "execution_count": null,
   "metadata": {
    "id": "pINsKNxH6SNC"
   },
   "outputs": [],
   "source": [
    "M_q = torch.tensor([[0, 1, 2], [3, 4, 5], [6, 7, 8]])\n",
    "M_q"
   ]
  },
  {
   "cell_type": "code",
   "execution_count": null,
   "metadata": {
    "id": "gfjWd8OO6SNE"
   },
   "outputs": [],
   "source": [
    "V_q = torch.tensor([[-1, 1, -2], [0, 1, 2]]).T\n",
    "V_q"
   ]
  },
  {
   "cell_type": "code",
   "execution_count": null,
   "metadata": {
    "id": "boSkaV2M6SNF"
   },
   "outputs": [],
   "source": [
    "torch.matmul(M_q, V_q)"
   ]
  },
  {
   "cell_type": "markdown",
   "metadata": {
    "id": "slSNKUcN6SNG"
   },
   "source": [
    "### Matrix Inversion"
   ]
  },
  {
   "cell_type": "code",
   "execution_count": null,
   "metadata": {
    "id": "EW0i5ZRk6SNG"
   },
   "outputs": [],
   "source": [
    "X = np.array([[4, 2], [-5, -3]])\n",
    "X"
   ]
  },
  {
   "cell_type": "code",
   "execution_count": null,
   "metadata": {
    "id": "hTYpxaWR6SNI"
   },
   "outputs": [],
   "source": [
    "Xinv = np.linalg.inv(X)\n",
    "Xinv"
   ]
  },
  {
   "cell_type": "markdown",
   "metadata": {
    "id": "XFDBBdYOc-7E"
   },
   "source": [
    "As a quick aside, let's prove that $X^{-1}X = I_n$ as per the slides:"
   ]
  },
  {
   "cell_type": "code",
   "execution_count": null,
   "metadata": {
    "id": "tyPhf-uZcvdB"
   },
   "outputs": [],
   "source": [
    "np.dot(Xinv, X)"
   ]
  },
  {
   "cell_type": "markdown",
   "metadata": {
    "id": "SVwvbBvclul1"
   },
   "source": [
    "...and now back to solving for the unknowns in $w$:"
   ]
  },
  {
   "cell_type": "code",
   "execution_count": null,
   "metadata": {
    "id": "Q5sQqFaz6SNK"
   },
   "outputs": [],
   "source": [
    "y = np.array([4, -7])\n",
    "y"
   ]
  },
  {
   "cell_type": "code",
   "execution_count": null,
   "metadata": {
    "id": "PK7m6F1I6SNL"
   },
   "outputs": [],
   "source": [
    "w = np.dot(Xinv, y)\n",
    "w"
   ]
  },
  {
   "cell_type": "markdown",
   "metadata": {
    "id": "fyBOHgdccgwD"
   },
   "source": [
    "Show that $y = Xw$:"
   ]
  },
  {
   "cell_type": "code",
   "execution_count": null,
   "metadata": {
    "id": "SVBojjwacgwD"
   },
   "outputs": [],
   "source": [
    "np.dot(X, w)"
   ]
  },
  {
   "cell_type": "markdown",
   "metadata": {
    "id": "rKELsi0PZCr0"
   },
   "source": [
    "**Geometric Visualization**\n",
    "\n",
    "Recalling from the slides that the two equations in the system are:\n",
    "$$ 4b + 2c = 4 $$\n",
    "$$ -5b - 3c = -7 $$\n",
    "\n",
    "Both equations can be rearranged to isolate a variable, say $c$. Starting with the first equation:\n",
    "$$ 4b + 2c = 4 $$\n",
    "$$ 2b + c = 2 $$\n",
    "$$ c = 2 - 2b $$\n",
    "\n",
    "Then for the second equation:\n",
    "$$ -5b - 3c = -7 $$\n",
    "$$ -3c = -7 + 5b $$\n",
    "$$ c = \\frac{-7 + 5b}{-3} = \\frac{7 - 5b}{3} $$"
   ]
  },
  {
   "cell_type": "code",
   "execution_count": null,
   "metadata": {
    "id": "ZASIBqroap7k"
   },
   "outputs": [],
   "source": [
    "b = np.linspace(-10, 10, 1000) # start, finish, n points"
   ]
  },
  {
   "cell_type": "code",
   "execution_count": null,
   "metadata": {
    "id": "9XsUdVsmaqTr"
   },
   "outputs": [],
   "source": [
    "c1 = 2 - 2*b"
   ]
  },
  {
   "cell_type": "code",
   "execution_count": null,
   "metadata": {
    "id": "8Mwn1tAca1Cl"
   },
   "outputs": [],
   "source": [
    "c2 = (7-5*b)/3"
   ]
  },
  {
   "cell_type": "code",
   "execution_count": null,
   "metadata": {
    "id": "X5ozP9jZauQa"
   },
   "outputs": [],
   "source": [
    "fig, ax = plt.subplots()\n",
    "plt.xlabel('b', c='darkorange')\n",
    "plt.ylabel('c', c='brown')\n",
    "\n",
    "plt.axvline(x=0, color='lightgray')\n",
    "plt.axhline(y=0, color='lightgray')\n",
    "\n",
    "ax.set_xlim([-2, 3])\n",
    "ax.set_ylim([-1, 5])\n",
    "ax.plot(b, c1, c='purple')\n",
    "ax.plot(b, c2, c='purple')\n",
    "plt.axvline(x=-1, color='green', linestyle='--')\n",
    "_ = plt.axhline(y=4, color='green', linestyle='--')"
   ]
  },
  {
   "cell_type": "markdown",
   "metadata": {
    "id": "14uhePTna7ZV"
   },
   "source": [
    "In PyTorch and TensorFlow:"
   ]
  },
  {
   "cell_type": "code",
   "execution_count": null,
   "metadata": {
    "id": "7qo-SAvaansp"
   },
   "outputs": [],
   "source": [
    "torch.inverse(torch.tensor([[4, 2], [-5, -3.]])) # float type"
   ]
  },
  {
   "cell_type": "code",
   "execution_count": null,
   "metadata": {
    "id": "uqtyF3Jqaz4l"
   },
   "outputs": [],
   "source": [
    "tf.linalg.inv(tf.Variable([[4, 2], [-5, -3.]])) # also float"
   ]
  },
  {
   "cell_type": "markdown",
   "metadata": {
    "id": "hcP2S4AMAHT_"
   },
   "source": [
    "**Exercises**:\n",
    "\n",
    "1. As done with NumPy above, use PyTorch to calculate $w$ from $X$ and $y$. Subsequently, confirm that $y = Xw$.\n",
    "2. Repeat again, now using TensorFlow."
   ]
  },
  {
   "cell_type": "markdown",
   "metadata": {
    "id": "AMxROg326SNN"
   },
   "source": [
    "**Return to slides here.**"
   ]
  },
  {
   "cell_type": "markdown",
   "metadata": {
    "id": "N8ZxpgcN6SNO"
   },
   "source": [
    "### Matrix Inversion Where No Solution"
   ]
  },
  {
   "cell_type": "code",
   "execution_count": null,
   "metadata": {
    "id": "RYORHY4E6SNO"
   },
   "outputs": [],
   "source": [
    "X = np.array([[-4, 1], [-8, 2]])\n",
    "X"
   ]
  },
  {
   "cell_type": "code",
   "execution_count": null,
   "metadata": {
    "id": "o7GcISdI6SNP"
   },
   "outputs": [],
   "source": [
    "# Uncommenting the following line results in a \"singular matrix\" error\n",
    "# Xinv = np.linalg.inv(X)"
   ]
  },
  {
   "cell_type": "markdown",
   "metadata": {
    "id": "uk485dwoI021"
   },
   "source": [
    "Feel free to try inverting a non-square matrix; this will throw an error too.\n",
    "\n",
    "**Return to slides here.**"
   ]
  },
  {
   "cell_type": "markdown",
   "metadata": {
    "id": "BXomEBoyDQyO"
   },
   "source": [
    "### Orthogonal Matrices\n",
    "\n",
    "These are the solutions to Exercises 3 and 4 on **orthogonal matrices** from the slides.\n",
    "\n",
    "For Exercise 3, to demonstrate the matrix $I_3$ has mutually orthogonal columns, we show that the dot product of any pair of columns is zero:"
   ]
  },
  {
   "cell_type": "code",
   "execution_count": null,
   "metadata": {
    "id": "-Un4Aq805HM1"
   },
   "outputs": [],
   "source": [
    "I = np.array([[1, 0, 0], [0, 1, 0], [0, 0, 1]])\n",
    "I"
   ]
  },
  {
   "cell_type": "code",
   "execution_count": null,
   "metadata": {
    "id": "CUhMi2_IEyaI"
   },
   "outputs": [],
   "source": [
    "column_1 = I[:,0]\n",
    "column_1"
   ]
  },
  {
   "cell_type": "code",
   "execution_count": null,
   "metadata": {
    "id": "xsOtn-siE63K"
   },
   "outputs": [],
   "source": [
    "column_2 = I[:,1]\n",
    "column_2"
   ]
  },
  {
   "cell_type": "code",
   "execution_count": null,
   "metadata": {
    "id": "Pv3b51ExE9ZX"
   },
   "outputs": [],
   "source": [
    "column_3 = I[:,2]\n",
    "column_3"
   ]
  },
  {
   "cell_type": "code",
   "execution_count": null,
   "metadata": {
    "id": "VhnRlc8eElYc"
   },
   "outputs": [],
   "source": [
    "np.dot(column_1, column_2)"
   ]
  },
  {
   "cell_type": "code",
   "execution_count": null,
   "metadata": {
    "id": "mVq4m-LfFGjQ"
   },
   "outputs": [],
   "source": [
    "np.dot(column_1, column_3)"
   ]
  },
  {
   "cell_type": "code",
   "execution_count": null,
   "metadata": {
    "id": "nJj-aihzFILx"
   },
   "outputs": [],
   "source": [
    "np.dot(column_2, column_3)"
   ]
  },
  {
   "cell_type": "markdown",
   "metadata": {
    "id": "FIzpkdJmFYdY"
   },
   "source": [
    "We can use the `np.linalg.norm()` method from earlier in the notebook to demonstrate that each column of $I_3$ has unit norm:"
   ]
  },
  {
   "cell_type": "code",
   "execution_count": null,
   "metadata": {
    "id": "xKbbeqegFJSc"
   },
   "outputs": [],
   "source": [
    "np.linalg.norm(column_1)"
   ]
  },
  {
   "cell_type": "code",
   "execution_count": null,
   "metadata": {
    "id": "Ycv0L8mpGKRC"
   },
   "outputs": [],
   "source": [
    "np.linalg.norm(column_2)"
   ]
  },
  {
   "cell_type": "code",
   "execution_count": null,
   "metadata": {
    "id": "LsEuRezYGLgY"
   },
   "outputs": [],
   "source": [
    "np.linalg.norm(column_3)"
   ]
  },
  {
   "cell_type": "markdown",
   "metadata": {
    "id": "NMrHdyrsGQ1X"
   },
   "source": [
    "Since the matrix $I_3$ has mutually orthogonal columns and each column has unit norm, the column vectors of $I_3$ are *orthonormal*. Since $I_3^T = I_3$, this means that the *rows* of $I_3$ must also be orthonormal.\n",
    "\n",
    "Since the columns and rows of $I_3$ are orthonormal, $I_3$ is an *orthogonal matrix*."
   ]
  },
  {
   "cell_type": "markdown",
   "metadata": {
    "id": "K7EykcPdIZhE"
   },
   "source": [
    "For Exercise 4, let's repeat the steps of Exercise 3 with matrix *K* instead of $I_3$. We could use NumPy again, but for fun I'll use PyTorch instead. (You're welcome to try it with TensorFlow if you feel so inclined.)"
   ]
  },
  {
   "cell_type": "code",
   "execution_count": null,
   "metadata": {
    "id": "MXVyu8tSGMlZ"
   },
   "outputs": [],
   "source": [
    "K = torch.tensor([[2/3, 1/3, 2/3], [-2/3, 2/3, 1/3], [1/3, 2/3, -2/3]])\n",
    "K"
   ]
  },
  {
   "cell_type": "code",
   "execution_count": null,
   "metadata": {
    "id": "xqkmSYNfJmTs"
   },
   "outputs": [],
   "source": [
    "Kcol_1 = K[:,0]\n",
    "Kcol_1"
   ]
  },
  {
   "cell_type": "code",
   "execution_count": null,
   "metadata": {
    "id": "ncoc3IxNJ0v2"
   },
   "outputs": [],
   "source": [
    "Kcol_2 = K[:,1]\n",
    "Kcol_2"
   ]
  },
  {
   "cell_type": "code",
   "execution_count": null,
   "metadata": {
    "id": "ISEKQ0AqJ2wf"
   },
   "outputs": [],
   "source": [
    "Kcol_3 = K[:,2]\n",
    "Kcol_3"
   ]
  },
  {
   "cell_type": "code",
   "execution_count": null,
   "metadata": {
    "id": "jvdXuMzbJ44d"
   },
   "outputs": [],
   "source": [
    "torch.dot(Kcol_1, Kcol_2)"
   ]
  },
  {
   "cell_type": "code",
   "execution_count": null,
   "metadata": {
    "id": "BUR60eBuKEbU"
   },
   "outputs": [],
   "source": [
    "torch.dot(Kcol_1, Kcol_3)"
   ]
  },
  {
   "cell_type": "code",
   "execution_count": null,
   "metadata": {
    "id": "Rg7QvQwuKGJZ"
   },
   "outputs": [],
   "source": [
    "torch.dot(Kcol_2, Kcol_3)"
   ]
  },
  {
   "cell_type": "markdown",
   "metadata": {
    "id": "wNdV36-QKNK-"
   },
   "source": [
    "We've now determined that the columns of $K$ are orthogonal."
   ]
  },
  {
   "cell_type": "code",
   "execution_count": null,
   "metadata": {
    "id": "DDgyhj1AKHdS"
   },
   "outputs": [],
   "source": [
    "torch.norm(Kcol_1)"
   ]
  },
  {
   "cell_type": "code",
   "execution_count": null,
   "metadata": {
    "id": "KvQZy_E2KorW"
   },
   "outputs": [],
   "source": [
    "torch.norm(Kcol_2)"
   ]
  },
  {
   "cell_type": "code",
   "execution_count": null,
   "metadata": {
    "id": "7H7dx8a7Kp9f"
   },
   "outputs": [],
   "source": [
    "torch.norm(Kcol_3)"
   ]
  },
  {
   "cell_type": "markdown",
   "metadata": {
    "id": "VPPtOk5OKtJ_"
   },
   "source": [
    "We've now determined that, in addition to being orthogonal, the columns of $K$ have unit norm, therefore they are orthonormal.\n",
    "\n",
    "To ensure that $K$ is an orthogonal matrix, we would need to show that not only does it have orthonormal columns but it has orthonormal rows are as well. Since $K^T \\neq K$, we can't prove this quite as straightforwardly as we did with $I_3$.\n",
    "\n",
    "One approach would be to repeat the steps we used to determine that $K$ has orthogonal columns with all of the matrix's rows (please feel free to do so). Alternatively, we can use an orthogonal matrix-specific equation from the slides, $A^TA = I$, to demonstrate that $K$ is orthogonal in a single line of code:"
   ]
  },
  {
   "cell_type": "code",
   "execution_count": null,
   "metadata": {
    "id": "W8Ao0KhVNHqF"
   },
   "outputs": [],
   "source": [
    "torch.matmul(K.T, K)"
   ]
  },
  {
   "cell_type": "markdown",
   "metadata": {
    "id": "scM6FCpjNgYA"
   },
   "source": [
    "Notwithstanding rounding errors that we can safely ignore, this confirms that $K^TK = I$ and therefore $K$ is an orthogonal matrix."
   ]
  }
 ],
 "metadata": {
  "colab": {
   "include_colab_link": true,
   "name": "1-intro-to-linear-algebra.ipynb",
   "provenance": [],
   "toc_visible": true
  },
  "kernelspec": {
   "display_name": "Python 3 (ipykernel)",
   "language": "python",
   "name": "python3"
  },
  "language_info": {
   "codemirror_mode": {
    "name": "ipython",
    "version": 3
   },
   "file_extension": ".py",
   "mimetype": "text/x-python",
   "name": "python",
   "nbconvert_exporter": "python",
   "pygments_lexer": "ipython3",
   "version": "3.13.3"
  }
 },
 "nbformat": 4,
 "nbformat_minor": 4
}
