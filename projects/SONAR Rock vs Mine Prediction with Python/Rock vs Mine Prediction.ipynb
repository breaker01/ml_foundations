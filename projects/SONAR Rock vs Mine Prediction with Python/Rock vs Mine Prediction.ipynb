{
 "cells": [
  {
   "cell_type": "markdown",
   "id": "70d54755",
   "metadata": {},
   "source": [
    "import libraries and tools"
   ]
  },
  {
   "cell_type": "code",
   "execution_count": 16,
   "id": "aa9b1c5e",
   "metadata": {},
   "outputs": [],
   "source": [
    "# create numpy arrays\n",
    "import numpy as np\n",
    "# to use dataframes\n",
    "import pandas as pd\n",
    "# splits your data into training and testing sets.\n",
    "from sklearn.model_selection import train_test_split\n",
    "# ML classification model\n",
    "from sklearn.linear_model import LinearRegression\n",
    "# Function for comparing predictions to actual labels\n",
    "from sklearn.metrics import accuracy_score"
   ]
  },
  {
   "cell_type": "markdown",
   "id": "08dfaf6a",
   "metadata": {},
   "source": [
    "Import data and convert it into dataframe"
   ]
  },
  {
   "cell_type": "code",
   "execution_count": 17,
   "id": "71f7c7ae",
   "metadata": {},
   "outputs": [],
   "source": [
    "sonar_data = pd.read_csv('./data/sonar_data.csv')"
   ]
  },
  {
   "cell_type": "code",
   "execution_count": null,
   "id": "0f2735f0",
   "metadata": {},
   "outputs": [],
   "source": []
  }
 ],
 "metadata": {
  "kernelspec": {
   "display_name": "sonar-env",
   "language": "python",
   "name": "python3"
  },
  "language_info": {
   "codemirror_mode": {
    "name": "ipython",
    "version": 3
   },
   "file_extension": ".py",
   "mimetype": "text/x-python",
   "name": "python",
   "nbconvert_exporter": "python",
   "pygments_lexer": "ipython3",
   "version": "3.13.3"
  }
 },
 "nbformat": 4,
 "nbformat_minor": 5
}
